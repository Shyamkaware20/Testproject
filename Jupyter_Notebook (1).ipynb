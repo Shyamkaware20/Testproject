{
  "metadata": {
    "kernelspec": {
      "name": "python",
      "display_name": "Pyolite",
      "language": "python"
    },
    "language_info": {
      "codemirror_mode": {
        "name": "python",
        "version": 3
      },
      "file_extension": ".py",
      "mimetype": "text/x-python",
      "name": "python",
      "nbconvert_exporter": "python",
      "pygments_lexer": "ipython3",
      "version": "3.8"
    }
  },
  "nbformat_minor": 4,
  "nbformat": 4,
  "cells": [
    {
      "cell_type": "markdown",
      "source": "<center>\n    <img src=\"https://s3-api.us-geo.objectstorage.softlayer.net/cf-courses-data/CognitiveClass/Logos/organization_logo/organization_logo.png\" width=\"300\" alt=\"cognitiveclass.ai logo\"  />\n</center>\n",
      "metadata": {}
    },
    {
      "cell_type": "markdown",
      "source": "#### Add your code below following the instructions given in the course\n",
      "metadata": {}
    },
    {
      "cell_type": "markdown",
      "source": "My Table",
      "metadata": {}
    },
    {
      "cell_type": "markdown",
      "source": "My Jupyter Notebook on IBM Watson Studio\"",
      "metadata": {
        "tags": []
      }
    },
    {
      "cell_type": "markdown",
      "source": "## SHYAM KAWARE\n   Chief Technology Officer",
      "metadata": {}
    },
    {
      "cell_type": "markdown",
      "source": "*I am intrested in Data Science because solving problems and providing solutions in understandable format is my passion and career goal.*",
      "metadata": {}
    },
    {
      "cell_type": "markdown",
      "source": "Simple Arithmatic Operatin",
      "metadata": {}
    },
    {
      "cell_type": "code",
      "source": "a = 7\nb = 9\n\nprint(a + b)\nprint(a**b)\nprint(a/b)",
      "metadata": {
        "trusted": true
      },
      "execution_count": 1,
      "outputs": [
        {
          "name": "stdout",
          "text": "16\n40353607\n0.7777777777777778\n",
          "output_type": "stream"
        }
      ]
    },
    {
      "cell_type": "markdown",
      "source": "- Bulleted item 1\n- Bulleted Item 2\n- Bulleted Item 3\n\n***\n***\n***\n\n1. Numbred Item\n2. Numbered Item\n    a. subset\n    b. subset2",
      "metadata": {}
    }
  ]
}